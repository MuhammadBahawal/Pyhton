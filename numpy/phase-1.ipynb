{
 "cells": [
  {
   "cell_type": "code",
   "execution_count": 3,
   "metadata": {},
   "outputs": [],
   "source": [
    "## start learning numpy "
   ]
  },
  {
   "cell_type": "code",
   "execution_count": 4,
   "metadata": {},
   "outputs": [],
   "source": [
    "import numpy as np\n",
    "import time"
   ]
  },
  {
   "cell_type": "code",
   "execution_count": 5,
   "metadata": {},
   "outputs": [
    {
     "name": "stdout",
     "output_type": "stream",
     "text": [
      "2d array:  [[1 2 3]\n",
      " [9 8 7]]\n"
     ]
    }
   ],
   "source": [
    "array_2d = np.array([[1,2,3],[9,8,7]])\n",
    "print(\"2d array: \",array_2d)\n"
   ]
  },
  {
   "cell_type": "code",
   "execution_count": 6,
   "metadata": {},
   "outputs": [
    {
     "name": "stdout",
     "output_type": "stream",
     "text": [
      "\n",
      " list time :  0.008505105972290039\n"
     ]
    }
   ],
   "source": [
    "start = time.time()\n",
    "\n",
    "lst = [i*2 for i in range(100000)]\n",
    "print(\"\\n list time : \" ,time.time() - start)"
   ]
  },
  {
   "cell_type": "code",
   "execution_count": 7,
   "metadata": {},
   "outputs": [
    {
     "name": "stdout",
     "output_type": "stream",
     "text": [
      "\n",
      " array time :  0.022771120071411133\n"
     ]
    }
   ],
   "source": [
    "arr = np.arange(100000)*2\n",
    "print(\"\\n array time : \", time.time()-start)"
   ]
  },
  {
   "cell_type": "code",
   "execution_count": 9,
   "metadata": {},
   "outputs": [
    {
     "name": "stdout",
     "output_type": "stream",
     "text": [
      "this is and list which convert into array :  [1 2 3 4 5 6]\n",
      "<class 'numpy.ndarray'>\n"
     ]
    }
   ],
   "source": [
    "arrl = np.array([1,2,3,4,5,6])\n",
    "print(\"this is and list which convert into array : \",arrl)\n",
    "print(type(arrl))"
   ]
  },
  {
   "cell_type": "code",
   "execution_count": 13,
   "metadata": {},
   "outputs": [
    {
     "name": "stdout",
     "output_type": "stream",
     "text": [
      "this is 3d array:  [[1 2]\n",
      " [1 3]\n",
      " [2 3]]\n",
      "6\n",
      "(3, 2)\n",
      "int64\n"
     ]
    }
   ],
   "source": [
    "arr_3d= np.array([[1,2],[1,3],[2,3]])\n",
    "print(\"this is 3d array: \",arr_3d)\n",
    "print(arr_3d.size)\n",
    "print(arr_3d.shape)\n",
    "print(arr_3d.dtype)"
   ]
  },
  {
   "cell_type": "code",
   "execution_count": 15,
   "metadata": {},
   "outputs": [
    {
     "name": "stdout",
     "output_type": "stream",
     "text": [
      "this is 3 by 3 matrices\n",
      " [[0. 0. 0.]\n",
      " [0. 0. 0.]\n",
      " [0. 0. 0.]]\n"
     ]
    }
   ],
   "source": [
    "zero_arr = np.zeros((3,3))\n",
    "print(\"this is 3 by 3 matrices\\n\", zero_arr)"
   ]
  },
  {
   "cell_type": "code",
   "execution_count": null,
   "metadata": {},
   "outputs": [
    {
     "name": "stdout",
     "output_type": "stream",
     "text": [
      "this is matrix of one : \n",
      " [[1. 1. 1. 1.]\n",
      " [1. 1. 1. 1.]\n",
      " [1. 1. 1. 1.]\n",
      " [1. 1. 1. 1.]]\n"
     ]
    }
   ],
   "source": [
    "arr_one = np.ones((4,4))\n",
    "print(\"this is matrix of one : \\n\",arr_one)"
   ]
  },
  {
   "cell_type": "code",
   "execution_count": 27,
   "metadata": {},
   "outputs": [
    {
     "name": "stdout",
     "output_type": "stream",
     "text": [
      "[[0.6242306  0.56873969 0.15198806]\n",
      " [0.81899634 0.77085854 0.79046415]\n",
      " [0.8932983  0.56876391 0.69726575]]\n"
     ]
    }
   ],
   "source": [
    "arr_rndm = np.random.rand(3,3)\n",
    "print(arr_rndm)"
   ]
  },
  {
   "cell_type": "code",
   "execution_count": 31,
   "metadata": {},
   "outputs": [
    {
     "name": "stdout",
     "output_type": "stream",
     "text": [
      "[[6 6 7]\n",
      " [8 3 3]\n",
      " [1 4 8]]\n"
     ]
    }
   ],
   "source": [
    "print(np.random.randint(1,9,(3,3)))"
   ]
  },
  {
   "cell_type": "code",
   "execution_count": 37,
   "metadata": {},
   "outputs": [
    {
     "name": "stdout",
     "output_type": "stream",
     "text": [
      "task done \n",
      "  [[10 12  5 10]\n",
      " [ 9 11 17 11]\n",
      " [ 6 15 14  8]]\n",
      "(3, 4) \n",
      " 12\n"
     ]
    }
   ],
   "source": [
    "arr_2d = np.random.randint(5,20,(3,4))\n",
    "print(\"task done \\n \",arr_2d)\n",
    "print(arr_2d.shape,\"\\n\",arr_2d.size)\n",
    "\n"
   ]
  },
  {
   "cell_type": "code",
   "execution_count": 38,
   "metadata": {},
   "outputs": [],
   "source": [
    "#array operations "
   ]
  },
  {
   "cell_type": "code",
   "execution_count": null,
   "metadata": {},
   "outputs": [
    {
     "name": "stdout",
     "output_type": "stream",
     "text": [
      "[ 7  9 11 13  8]\n",
      "[-5 -5 -5 -5  2]\n",
      "[0.16666667 0.28571429 0.375      0.44444444 1.66666667]\n",
      "[ 6 14 24 36 15]\n",
      "[0 0 0 0 1]\n",
      "[     1    128   6561 262144    125]\n"
     ]
    }
   ],
   "source": [
    "arr1 = np.array([1,2,3,4,5])\n",
    "arr2 = np.array([6,7,8,9,3])\n",
    "\n",
    "print(arr1+arr2)\n",
    "print(arr1-arr2)\n",
    "print(arr1/arr2)\n",
    "print(arr1*arr2)\n",
    "print(arr1//arr2)\n",
    "print(arr1**arr2)"
   ]
  },
  {
   "cell_type": "code",
   "execution_count": 43,
   "metadata": {},
   "outputs": [
    {
     "name": "stdout",
     "output_type": "stream",
     "text": [
      "60\n",
      "30\n",
      "10\n",
      "8.16496580927726\n",
      "20.0\n"
     ]
    }
   ],
   "source": [
    "# some built-in functions for mathematics\n",
    "arrb1 = np.array([10, 20, 30])\n",
    "print(np.sum(arrb1))\n",
    "print(np.max(arrb1))\n",
    "print(np.min(arrb1))\n",
    "print(np.std(arrb1))\n",
    "print(np.median(arrb1))\n"
   ]
  },
  {
   "cell_type": "code",
   "execution_count": null,
   "metadata": {},
   "outputs": [],
   "source": [
    "A = np.array([[1, 2], [3, 4]])\n",
    "B = np.array([[5, 6], [7, 8]])\n",
    "\n",
    "print(A + B)  # Element-wise addition\n",
    "print(A - B)  # Element-wise subtraction\n",
    "print(A * B)  # Element-wise multiplication\n",
    "print(np.dot(A, B))  # Matrix multiplication\n",
    "print(np.linalg.inv(A))  # Inverse of matrix in this linalg means linear Algebra \n"
   ]
  }
 ],
 "metadata": {
  "kernelspec": {
   "display_name": ".venv",
   "language": "python",
   "name": "python3"
  },
  "language_info": {
   "codemirror_mode": {
    "name": "ipython",
    "version": 3
   },
   "file_extension": ".py",
   "mimetype": "text/x-python",
   "name": "python",
   "nbconvert_exporter": "python",
   "pygments_lexer": "ipython3",
   "version": "3.13.2"
  }
 },
 "nbformat": 4,
 "nbformat_minor": 4
}
